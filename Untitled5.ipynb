{
  "nbformat": 4,
  "nbformat_minor": 0,
  "metadata": {
    "colab": {
      "provenance": []
    },
    "kernelspec": {
      "name": "python3",
      "display_name": "Python 3"
    },
    "language_info": {
      "name": "python"
    }
  },
  "cells": [
    {
      "cell_type": "code",
      "execution_count": null,
      "metadata": {
        "id": "lNfzHy6_zUlS"
      },
      "outputs": [],
      "source": [
        "# solution 7"
      ]
    },
    {
      "cell_type": "code",
      "source": [
        "import array\n",
        "arr = array.array(\"I\",[2,4,6,8,10,12])\n",
        "print(\"new created array:\",end=\"\")\n",
        "for I in range(0,5):\n",
        "  print(arr[I],end=\"\")\n",
        "  print(\"\\r\")\n"
      ],
      "metadata": {
        "colab": {
          "base_uri": "https://localhost:8080/"
        },
        "id": "SpDGwhMU0OKc",
        "outputId": "16ba20b7-4ffc-4286-edef-b23933881e31"
      },
      "execution_count": 12,
      "outputs": [
        {
          "output_type": "stream",
          "name": "stdout",
          "text": [
            "new created array:2\r\n",
            "4\r\n",
            "6\r\n",
            "8\r\n",
            "10\r\n"
          ]
        }
      ]
    },
    {
      "cell_type": "code",
      "source": [
        "# This example is show how to access the DataFrame with boolean index\n",
        "\n",
        "import pandas as pd\n",
        "\n",
        "Dict = {'name':['prince','vijay','vikas','arvind'], 'age':[19,20,18,22]}\n",
        "info = pd.DataFrame(Dict,index=[True,True,False,True])\n",
        "print(info)\n",
        "\n",
        "# this example show how to access the DataFrame with boolean index by using (.loc)\n",
        "\n",
        "print(\"access the DataFrame with boolean index by using .loc :\")\n",
        "print(info.loc[True])"
      ],
      "metadata": {
        "id": "Jtzo25qj5wyp",
        "outputId": "0aca020e-841e-4eb2-aaa7-9bab3ce4a5fc",
        "colab": {
          "base_uri": "https://localhost:8080/"
        }
      },
      "execution_count": 17,
      "outputs": [
        {
          "output_type": "stream",
          "name": "stdout",
          "text": [
            "         name  age\n",
            "True   prince   19\n",
            "True    vijay   20\n",
            "False   vikas   18\n",
            "True   arvind   22\n",
            "access the DataFrame with boolean index by using .loc :\n",
            "        name  age\n",
            "True  prince   19\n",
            "True   vijay   20\n",
            "True  arvind   22\n",
            "name    vikas\n",
            "age        18\n",
            "Name: False, dtype: object\n"
          ]
        }
      ]
    },
    {
      "cell_type": "code",
      "source": [
        "# Reshape array\n",
        "\n",
        "import numpy as np\n",
        "\n",
        "arr = np.arange(16)\n",
        "print(\"create a array:\",end=\"\")\n",
        "print(arr)\n",
        "arr = np.arange(16).reshape(2,8)\n",
        "print(\"after reshape array (2,8)\")\n",
        "print(arr)\n",
        "arr = np.arange(16).reshape(8,2)\n",
        "print(\"after reshape array (8,2)\")\n",
        "print(arr)\n",
        "\n",
        "\n",
        "\n"
      ],
      "metadata": {
        "id": "fSWBSqVT89u4",
        "outputId": "1a4fdad7-a759-4114-d2b1-52eb561cfffb",
        "colab": {
          "base_uri": "https://localhost:8080/"
        }
      },
      "execution_count": 22,
      "outputs": [
        {
          "output_type": "stream",
          "name": "stdout",
          "text": [
            "create a array:[ 0  1  2  3  4  5  6  7  8  9 10 11 12 13 14 15]\n",
            "after reshape array (2,8)\n",
            "[[ 0  1  2  3  4  5  6  7]\n",
            " [ 8  9 10 11 12 13 14 15]]\n",
            "after reshape array (8,2)\n",
            "[[ 0  1]\n",
            " [ 2  3]\n",
            " [ 4  5]\n",
            " [ 6  7]\n",
            " [ 8  9]\n",
            " [10 11]\n",
            " [12 13]\n",
            " [14 15]]\n"
          ]
        }
      ]
    },
    {
      "cell_type": "code",
      "source": [],
      "metadata": {
        "id": "X8b61rpu71mT"
      },
      "execution_count": null,
      "outputs": []
    }
  ]
}